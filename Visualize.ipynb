{
 "cells": [
  {
   "cell_type": "code",
   "execution_count": 3,
   "metadata": {},
   "outputs": [],
   "source": [
    "import IPython.core.display as di\n",
    "#import datetime as dt\n",
    "#from ImpTes import import_data_refactor\n",
    "\n",
    "import pandas as pd\n",
    "import numpy as np\n",
    "import IPython.core.display as di\n",
    "import statsmodels\n",
    "\n",
    "#import datetime\n",
    "import math as math\n",
    "\n",
    "import seaborn as sns\n",
    "import matplotlib.pyplot as plt\n",
    "\n",
    "from statsmodels.tsa.stattools import acf, pacf\n",
    "from pandas import read_csv\n",
    "from pandas import set_option\n",
    "from pandas import concat\n",
    "#from pandas.tools.plotting import scatter_matrix\n",
    "from pandas.plotting import scatter_matrix\n",
    "\n",
    "from statsmodels.tsa.stattools import adfuller\n",
    "from statsmodels.graphics.gofplots import qqplot\n",
    "\n",
    "from sklearn.model_selection import train_test_split\n",
    "from sklearn.model_selection import KFold\n",
    "from sklearn.model_selection import cross_val_score\n",
    "from sklearn.metrics import classification_report\n",
    "from sklearn.metrics import confusion_matrix\n",
    "from sklearn.metrics import accuracy_score\n",
    "from sklearn.linear_model import LogisticRegression\n",
    "from sklearn.tree import DecisionTreeClassifier\n",
    "from sklearn.neighbors import KNeighborsClassifier\n",
    "from sklearn.discriminant_analysis import LinearDiscriminantAnalysis\n",
    "from sklearn.naive_bayes import GaussianNB\n",
    "from sklearn.svm import SVC\n",
    "\n",
    "\n",
    "from pandas import tseries\n",
    "from pandas import Series\n",
    "from pandas import DataFrame\n",
    "from pandas import TimeGrouper\n",
    "from pandas.plotting import autocorrelation_plot\n",
    "\n",
    "from sklearn.metrics import mean_squared_error\n",
    "from numpy import mean\n",
    "from math import sqrt\n",
    "from scipy.signal import savgol_filter\n",
    "#get_ipython().magic(u'matplotlib inline')\n",
    "\n",
    "#import InitTrain\n",
    "#from InitTrain import *\n",
    "#import finfun\n",
    "#from finfun import *\n",
    "from collections import namedtuple\n",
    "#import dL\n",
    "#import trainModelApp\n",
    "\n",
    "import glob, os, sys\n",
    "\n",
    "np.set_printoptions(threshold='nan')\n",
    "get_ipython().magic(u'matplotlib inline')\n",
    "plt.style.use('seaborn')"
   ]
  },
  {
   "cell_type": "code",
   "execution_count": 47,
   "metadata": {},
   "outputs": [
    {
     "name": "stdout",
     "output_type": "stream",
     "text": [
      "/Users/vincenzobattista/Desktop/ResourceAwareMachineLearning/HandsOn/Data2Learn/Merged_B100Data20Sep2017132054.csv\n",
      "/Users/vincenzobattista/Desktop/ResourceAwareMachineLearning/HandsOn/Data2Learn/Merged_B100Data20Sep2017133512.csv\n",
      "/Users/vincenzobattista/Desktop/ResourceAwareMachineLearning/HandsOn/Data2Learn/Merged_B100Data20Sep2017135527.csv\n",
      "/Users/vincenzobattista/Desktop/ResourceAwareMachineLearning/HandsOn/Data2Learn/Merged_B100Data20Sep2017142352.csv\n",
      "/Users/vincenzobattista/Desktop/ResourceAwareMachineLearning/HandsOn/Data2Learn/Merged_B100Data20Sep2017145137.csv\n",
      "/Users/vincenzobattista/Desktop/ResourceAwareMachineLearning/HandsOn/Data2Learn/Merged_B100Data20Sep2017150923.csv\n",
      "/Users/vincenzobattista/Desktop/ResourceAwareMachineLearning/HandsOn/Data2Learn/Merged_B100Data20Sep2017153915.csv\n",
      "/Users/vincenzobattista/Desktop/ResourceAwareMachineLearning/HandsOn/Data2Learn/Merged_B100Data20Sep2017160553.csv\n",
      "/Users/vincenzobattista/Desktop/ResourceAwareMachineLearning/HandsOn/Data2Learn/Merged_B100Data20Sep2017161805.csv\n",
      "/Users/vincenzobattista/Desktop/ResourceAwareMachineLearning/HandsOn/Data2Learn/Merged_B100Data20Sep2017162942.csv\n",
      "/Users/vincenzobattista/Desktop/ResourceAwareMachineLearning/HandsOn/Data2Learn/Merged_B100Data20Sep2017164452.csv\n",
      "/Users/vincenzobattista/Desktop/ResourceAwareMachineLearning/HandsOn/Data2Learn/Merged_B100Data22Sep2017112947.csv\n",
      "/Users/vincenzobattista/Desktop/ResourceAwareMachineLearning/HandsOn/Data2Learn/Merged_B100Data22Sep2017141538.csv\n",
      "/Users/vincenzobattista/Desktop/ResourceAwareMachineLearning/HandsOn/Data2Learn/Merged_B100Data22Sep2017150843.csv\n",
      "/Users/vincenzobattista/Desktop/ResourceAwareMachineLearning/HandsOn/Data2Learn/Merged_B100Data22Sep2017154657.csv\n",
      "/Users/vincenzobattista/Desktop/ResourceAwareMachineLearning/HandsOn/Data2Learn/Merged_B50Data20Sep2017140730.csv\n",
      "/Users/vincenzobattista/Desktop/ResourceAwareMachineLearning/HandsOn/Data2Learn/Merged_B50Data20Sep2017143157.csv\n",
      "/Users/vincenzobattista/Desktop/ResourceAwareMachineLearning/HandsOn/Data2Learn/Merged_B50Data20Sep2017150049.csv\n",
      "/Users/vincenzobattista/Desktop/ResourceAwareMachineLearning/HandsOn/Data2Learn/Merged_B50Data20Sep2017153124.csv\n",
      "/Users/vincenzobattista/Desktop/ResourceAwareMachineLearning/HandsOn/Data2Learn/Merged_B50Data20Sep2017154438.csv\n",
      "/Users/vincenzobattista/Desktop/ResourceAwareMachineLearning/HandsOn/Data2Learn/Merged_B50Data20Sep2017161139.csv\n",
      "/Users/vincenzobattista/Desktop/ResourceAwareMachineLearning/HandsOn/Data2Learn/Merged_B50Data20Sep2017162258.csv\n",
      "/Users/vincenzobattista/Desktop/ResourceAwareMachineLearning/HandsOn/Data2Learn/Merged_B50Data20Sep2017163721.csv\n",
      "/Users/vincenzobattista/Desktop/ResourceAwareMachineLearning/HandsOn/Data2Learn/Merged_B50Data20Sep2017165118.csv\n",
      "/Users/vincenzobattista/Desktop/ResourceAwareMachineLearning/HandsOn/Data2Learn/Merged_B50Data22Sep2017112248.csv\n",
      "/Users/vincenzobattista/Desktop/ResourceAwareMachineLearning/HandsOn/Data2Learn/Merged_B50Data22Sep2017143814.csv\n",
      "/Users/vincenzobattista/Desktop/ResourceAwareMachineLearning/HandsOn/Data2Learn/Merged_B50Data22Sep2017150209.csv\n",
      "/Users/vincenzobattista/Desktop/ResourceAwareMachineLearning/HandsOn/Data2Learn/Merged_B50Data22Sep2017160850.csv\n",
      "/Users/vincenzobattista/Desktop/ResourceAwareMachineLearning/HandsOn/Data2Learn/Merged_B50Data22Sep2017164210.csv\n",
      "/Users/vincenzobattista/Desktop/ResourceAwareMachineLearning/HandsOn/Data2Learn/Merged_B75Data20Sep2017141105.csv\n",
      "/Users/vincenzobattista/Desktop/ResourceAwareMachineLearning/HandsOn/Data2Learn/Merged_B75Data20Sep2017142743.csv\n",
      "/Users/vincenzobattista/Desktop/ResourceAwareMachineLearning/HandsOn/Data2Learn/Merged_B75Data20Sep2017145629.csv\n",
      "/Users/vincenzobattista/Desktop/ResourceAwareMachineLearning/HandsOn/Data2Learn/Merged_B75Data20Sep2017151550.csv\n",
      "ERROR!\n",
      "/Users/vincenzobattista/Desktop/ResourceAwareMachineLearning/HandsOn/Data2Learn/Merged_B75Data20Sep2017152831.csv\n",
      "/Users/vincenzobattista/Desktop/ResourceAwareMachineLearning/HandsOn/Data2Learn/Merged_B75Data20Sep2017154206.csv\n",
      "/Users/vincenzobattista/Desktop/ResourceAwareMachineLearning/HandsOn/Data2Learn/Merged_B75Data20Sep2017160907.csv\n",
      "/Users/vincenzobattista/Desktop/ResourceAwareMachineLearning/HandsOn/Data2Learn/Merged_B75Data20Sep2017162033.csv\n",
      "/Users/vincenzobattista/Desktop/ResourceAwareMachineLearning/HandsOn/Data2Learn/Merged_B75Data20Sep2017163446.csv\n",
      "/Users/vincenzobattista/Desktop/ResourceAwareMachineLearning/HandsOn/Data2Learn/Merged_B75Data20Sep2017164832.csv\n",
      "/Users/vincenzobattista/Desktop/ResourceAwareMachineLearning/HandsOn/Data2Learn/Merged_B75Data22Sep2017112541.csv\n",
      "/Users/vincenzobattista/Desktop/ResourceAwareMachineLearning/HandsOn/Data2Learn/Merged_B75Data22Sep2017142755.csv\n",
      "/Users/vincenzobattista/Desktop/ResourceAwareMachineLearning/HandsOn/Data2Learn/Merged_B75Data22Sep2017150535.csv\n",
      "/Users/vincenzobattista/Desktop/ResourceAwareMachineLearning/HandsOn/Data2Learn/Merged_B75Data22Sep2017155856.csv\n",
      "/Users/vincenzobattista/Desktop/ResourceAwareMachineLearning/HandsOn/Data2Learn/Merged_B75Data22Sep2017165112.csv\n"
     ]
    }
   ],
   "source": [
    "path = '/Users/vincenzobattista/Desktop/ResourceAwareMachineLearning/HandsOn/Data2Learn/Merged_'\n",
    "filenames = list(glob.glob(path+'*.csv'))\n",
    "data_list = []\n",
    "data = pd.DataFrame()\n",
    "for filen in filenames:\n",
    "    print(filen)\n",
    "    try:\n",
    "        df = pd.read_csv( filen, na_values='.', sep = ',', index_col=None, parse_dates=True )\n",
    "    except:\n",
    "        print(\"ERROR!\")\n",
    "    data_list.append( df )\n",
    "data = pd.concat(data_list)\n",
    "\n",
    "# correct for outliers\n",
    "data = data.query(\"Temp>0\")"
   ]
  },
  {
   "cell_type": "code",
   "execution_count": 28,
   "metadata": {},
   "outputs": [
    {
     "name": "stdout",
     "output_type": "stream",
     "text": [
      "(43040, 14)\n",
      "                                UNIX_T  RSSI1  RSSI2  RSSI3  Lux  Acc_x  \\\n",
      "Time                                                                      \n",
      "2017-09-20 13:20:57.351  1505906457351     56     75     47   63  -1106   \n",
      "2017-09-20 13:20:57.402  1505906457402     43     53     63   70  -1038   \n",
      "2017-09-20 13:20:57.453  1505906457453     53     59     64   93  -1090   \n",
      "2017-09-20 13:20:57.503  1505906457503     51     66     64  162  -1074   \n",
      "2017-09-20 13:20:57.555  1505906457555     51     64     60   82  -1051   \n",
      "2017-09-20 13:20:57.603  1505906457603     57     58     55  144  -1094   \n",
      "2017-09-20 13:20:57.654  1505906457654     63     66     61  149  -1007   \n",
      "2017-09-20 13:20:57.707  1505906457707     52     48     56   83  -1091   \n",
      "2017-09-20 13:20:57.751  1505906457751     54     70     60  156  -1030   \n",
      "2017-09-20 13:20:57.808  1505906457808     58     62     57  161  -1086   \n",
      "2017-09-20 13:20:57.853  1505906457853     63     71     51   85  -1051   \n",
      "2017-09-20 13:20:57.903  1505906457903     57     64     64   67  -1035   \n",
      "2017-09-20 13:20:57.954  1505906457954     51     56     66   95  -1083   \n",
      "2017-09-20 13:20:58.002  1505906458002     49     63     54  197  -1052   \n",
      "2017-09-20 13:20:58.059  1505906458059     51     60     48  180  -1094   \n",
      "2017-09-20 13:20:58.105  1505906458105     63     70     60   78  -1061   \n",
      "2017-09-20 13:20:58.161  1505906458161     61     72     57   70  -1094   \n",
      "2017-09-20 13:20:58.206  1505906458206     49     58     58  192  -1051   \n",
      "2017-09-20 13:20:58.254  1505906458254     56     66     51  166  -1038   \n",
      "2017-09-20 13:20:58.313  1505906458313     53     64     44   69  -1071   \n",
      "\n",
      "                         Acc_y  Acc_z   Temp  ID  Pos  Si  Co  Ro  \n",
      "Time                                                               \n",
      "2017-09-20 13:20:57.351    -20    102   2048   1  223   2   2   3  \n",
      "2017-09-20 13:20:57.402     10     89   2025   2  253   2   5   3  \n",
      "2017-09-20 13:20:57.453    -47    135   1951   3  241   2   4   1  \n",
      "2017-09-20 13:20:57.503      5    109   1995   4  132   1   3   2  \n",
      "2017-09-20 13:20:57.555    -46    110  28431   5  231   2   3   1  \n",
      "2017-09-20 13:20:57.603    -60    101   1907   6  113   1   1   3  \n",
      "2017-09-20 13:20:57.654     26    178   1953   7  123   1   2   3  \n",
      "2017-09-20 13:20:57.707    -31     58   1879   8  252   2   5   2  \n",
      "2017-09-20 13:20:57.751     38     95   1975   9  122   1   2   2  \n",
      "2017-09-20 13:20:57.808    -57    101   2021  10  143   1   4   3  \n",
      "2017-09-20 13:20:57.853    -50     78   2022  11  211   2   1   1  \n",
      "2017-09-20 13:20:57.903    -18     66   1982  12  233   2   3   3  \n",
      "2017-09-20 13:20:57.954    -41     93   2017  13  251   2   5   1  \n",
      "2017-09-20 13:20:58.002    -54     53   1943  14  142   1   4   2  \n",
      "2017-09-20 13:20:58.059    -26    116   1974  15  111   1   1   1  \n",
      "2017-09-20 13:20:58.105    -34    124   1917  16  221   2   2   1  \n",
      "2017-09-20 13:20:58.161    -42    137   1960  17  222   2   2   2  \n",
      "2017-09-20 13:20:58.206    -34    132   1950  18  151   1   5   1  \n",
      "2017-09-20 13:20:58.254     70     69   2082  19  121   1   2   1  \n",
      "2017-09-20 13:20:58.313      5    119   1979  20  212   2   1   2  \n",
      "             UNIX_T         RSSI1         RSSI2         RSSI3           Lux  \\\n",
      "count  4.304000e+04  43040.000000  43040.000000  43040.000000  43040.000000   \n",
      "mean   1.505967e+12     54.298025     62.094679     58.219493     52.193285   \n",
      "std    7.881460e+07      6.061639      6.342709      6.953847     59.453788   \n",
      "min    1.505906e+12     26.000000     40.000000     13.000000      2.000000   \n",
      "25%    1.505912e+12     51.000000     57.000000     55.000000      8.000000   \n",
      "50%    1.505917e+12     55.000000     62.000000     60.000000     29.000000   \n",
      "75%    1.506073e+12     58.000000     67.000000     63.000000     76.000000   \n",
      "max    1.506092e+12     69.000000     76.000000     69.000000    218.000000   \n",
      "\n",
      "             Acc_x         Acc_y         Acc_z          Temp            ID  \\\n",
      "count  43040.00000  43040.000000  43040.000000  43040.000000  43040.000000   \n",
      "mean   -1064.79684    -20.096329    101.941636   3159.461571     11.494493   \n",
      "std       25.52045     33.633656     28.265105   5209.255582      6.374021   \n",
      "min    -1115.00000    -70.000000     34.000000   1827.000000      1.000000   \n",
      "25%    -1088.00000    -47.000000     86.000000   2027.000000      6.000000   \n",
      "50%    -1062.00000    -30.000000    103.000000   2093.000000     12.000000   \n",
      "75%    -1050.00000      2.000000    117.000000   2160.000000     17.000000   \n",
      "max    -1003.00000     85.000000    189.000000  28587.000000     22.000000   \n",
      "\n",
      "                Pos            Si            Co            Ro  \n",
      "count  43040.000000  43040.000000  43040.000000  43040.000000  \n",
      "mean     187.102997      1.487825      3.572119      2.599280  \n",
      "std       55.478495      0.499858      2.184512      2.174639  \n",
      "min      111.000000      1.000000      1.000000      1.000000  \n",
      "25%      132.000000      1.000000      2.000000      1.000000  \n",
      "50%      199.000000      1.000000      3.000000      2.000000  \n",
      "75%      233.000000      2.000000      5.000000      3.000000  \n",
      "max      299.000000      2.000000      9.000000      9.000000  \n"
     ]
    }
   ],
   "source": [
    "# Summarize Data\n",
    "\n",
    "# Descriptive statistics\n",
    "# shape\n",
    "print(data.shape)\n",
    "# head\n",
    "print(data.head(20))\n",
    "# descriptions\n",
    "print(data.describe())"
   ]
  },
  {
   "cell_type": "code",
   "execution_count": 36,
   "metadata": {},
   "outputs": [
    {
     "data": {
      "text/plain": [
       "<matplotlib.axes._subplots.AxesSubplot at 0x115b06c50>"
      ]
     },
     "execution_count": 36,
     "metadata": {},
     "output_type": "execute_result"
    },
    {
     "data": {
      "image/png": "[encoded data removed]",
      "text/plain": [
       "<matplotlib.figure.Figure at 0x11148e890>"
      ]
     },
     "metadata": {},
     "output_type": "display_data"
    }
   ],
   "source": [
    "fig = plt.plot()\n",
    "data[\"Co\"].hist()"
   ]
  },
  {
   "cell_type": "code",
   "execution_count": 35,
   "metadata": {},
   "outputs": [
    {
     "data": {
      "text/plain": [
       "<matplotlib.axes._subplots.AxesSubplot at 0x1159fcf10>"
      ]
     },
     "execution_count": 35,
     "metadata": {},
     "output_type": "execute_result"
    },
    {
     "data": {
      "image/png": "[encoded data removed]",
      "text/plain": [
       "<matplotlib.figure.Figure at 0x11264d750>"
      ]
     },
     "metadata": {},
     "output_type": "display_data"
    }
   ],
   "source": [
    "fig = plt.plot()\n",
    "data[\"Ro\"].hist()"
   ]
  },
  {
   "cell_type": "code",
   "execution_count": 37,
   "metadata": {},
   "outputs": [
    {
     "data": {
      "text/plain": [
       "<matplotlib.axes._subplots.AxesSubplot at 0x115bbe2d0>"
      ]
     },
     "execution_count": 37,
     "metadata": {},
     "output_type": "execute_result"
    },
    {
     "data": {
      "image/png": "[encoded data removed]",
      "text/plain": [
       "<matplotlib.figure.Figure at 0x115c4aad0>"
      ]
     },
     "metadata": {},
     "output_type": "display_data"
    }
   ],
   "source": [
    "fig = plt.plot()\n",
    "data[\"Si\"].hist()"
   ]
  },
  {
   "cell_type": "code",
   "execution_count": 54,
   "metadata": {},
   "outputs": [
    {
     "data": {
      "text/plain": [
       "<matplotlib.axes._subplots.AxesSubplot at 0x1121cb050>"
      ]
     },
     "execution_count": 54,
     "metadata": {},
     "output_type": "execute_result"
    },
    {
     "data": {
      "image/png": "[encoded data removed]",
      "text/plain": [
       "<matplotlib.figure.Figure at 0x11219f350>"
      ]
     },
     "metadata": {},
     "output_type": "display_data"
    }
   ],
   "source": [
    "fig = plt.plot()\n",
    "data[\"RSSI3\"].hist()"
   ]
  },
  {
   "cell_type": "code",
   "execution_count": 58,
   "metadata": {},
   "outputs": [],
   "source": [
    "sub_data = data[[\"RSSI1\",\"RSSI2\",\"RSSI3\",\"Lux\",\"ID\"]]\n",
    "target = data[\"Pos\"]\n",
    "X_train, y_train, X_test, y_test = train_test_split(sub_data,target)"
   ]
  },
  {
   "cell_type": "code",
   "execution_count": 59,
   "metadata": {},
   "outputs": [
    {
     "data": {
      "text/html": [
       "<div>\n",
       "<style>\n",
       "    .dataframe thead tr:only-child th {\n",
       "        text-align: right;\n",
       "    }\n",
       "\n",
       "    .dataframe thead th {\n",
       "        text-align: left;\n",
       "    }\n",
       "\n",
       "    .dataframe tbody tr th {\n",
       "        vertical-align: top;\n",
       "    }\n",
       "</style>\n",
       "<table border=\"1\" class=\"dataframe\">\n",
       "  <thead>\n",
       "    <tr style=\"text-align: right;\">\n",
       "      <th></th>\n",
       "      <th>RSSI1</th>\n",
       "      <th>RSSI2</th>\n",
       "      <th>RSSI3</th>\n",
       "      <th>Lux</th>\n",
       "      <th>ID</th>\n",
       "    </tr>\n",
       "  </thead>\n",
       "  <tbody>\n",
       "    <tr>\n",
       "      <th>RSSI1</th>\n",
       "      <td>1.000000</td>\n",
       "      <td>0.334815</td>\n",
       "      <td>-0.148520</td>\n",
       "      <td>-0.105468</td>\n",
       "      <td>0.063966</td>\n",
       "    </tr>\n",
       "    <tr>\n",
       "      <th>RSSI2</th>\n",
       "      <td>0.334815</td>\n",
       "      <td>1.000000</td>\n",
       "      <td>-0.196445</td>\n",
       "      <td>-0.048162</td>\n",
       "      <td>0.060943</td>\n",
       "    </tr>\n",
       "    <tr>\n",
       "      <th>RSSI3</th>\n",
       "      <td>-0.148520</td>\n",
       "      <td>-0.196445</td>\n",
       "      <td>1.000000</td>\n",
       "      <td>0.013434</td>\n",
       "      <td>0.018269</td>\n",
       "    </tr>\n",
       "    <tr>\n",
       "      <th>Lux</th>\n",
       "      <td>-0.105468</td>\n",
       "      <td>-0.048162</td>\n",
       "      <td>0.013434</td>\n",
       "      <td>1.000000</td>\n",
       "      <td>0.030625</td>\n",
       "    </tr>\n",
       "    <tr>\n",
       "      <th>ID</th>\n",
       "      <td>0.063966</td>\n",
       "      <td>0.060943</td>\n",
       "      <td>0.018269</td>\n",
       "      <td>0.030625</td>\n",
       "      <td>1.000000</td>\n",
       "    </tr>\n",
       "  </tbody>\n",
       "</table>\n",
       "</div>"
      ],
      "text/plain": [
       "          RSSI1     RSSI2     RSSI3       Lux        ID\n",
       "RSSI1  1.000000  0.334815 -0.148520 -0.105468  0.063966\n",
       "RSSI2  0.334815  1.000000 -0.196445 -0.048162  0.060943\n",
       "RSSI3 -0.148520 -0.196445  1.000000  0.013434  0.018269\n",
       "Lux   -0.105468 -0.048162  0.013434  1.000000  0.030625\n",
       "ID     0.063966  0.060943  0.018269  0.030625  1.000000"
      ]
     },
     "execution_count": 59,
     "metadata": {},
     "output_type": "execute_result"
    }
   ],
   "source": [
    "sub_data.corr()"
   ]
  },
  {
   "cell_type": "code",
   "execution_count": null,
   "metadata": {
    "collapsed": true
   },
   "outputs": [],
   "source": [
    "clf = DecisionTreeClassifier(max_depth=30)\n"
   ]
  },
  {
   "cell_type": "code",
   "execution_count": 7,
   "metadata": {},
   "outputs": [
    {
     "data": {
      "text/plain": [
       "<matplotlib.axes._subplots.AxesSubplot at 0x7f02758d0e10>"
      ]
     },
     "execution_count": 7,
     "metadata": {},
     "output_type": "execute_result"
    },
    {
     "data": {
      "image/png": "[encoded data removed]",
      "text/plain": [
       "<matplotlib.figure.Figure at 0x7f0278db2290>"
      ]
     },
     "metadata": {},
     "output_type": "display_data"
    }
   ],
   "source": [
    "# Summarize Data\n",
    "\n",
    "# Descriptive statistics\n",
    "# shape\n",
    "print(data.shape)\n",
    "# head\n",
    "print(data.head(20))\n",
    "# descriptions\n",
    "print(data.describe())\n",
    "# class distribution\n",
    "print(dataset.groupby('class').size())\n",
    "\n",
    "# Data visualizations\n",
    "\n",
    "# box and whisker plots\n",
    "data.plot(kind='box', subplots=True, layout=(4,4), sharex=False, sharey=False)\n",
    "plt.show()\n",
    "# histograms\n",
    "dataset.hist()\n",
    "plt.show()\n",
    "# scatter plot matrix\n",
    "scatter_matrix(dataset)\n",
    "plt.show()\n",
    "\n",
    "# Prepare Data\n",
    "\n",
    "# Split-out validation dataset\n",
    "array = dataset.values\n",
    "X = array[:,0:4]\n",
    "Y = array[:,4]\n",
    "validation_size = 0.20\n",
    "seed = 7\n",
    "X_train, X_validation, Y_train, Y_validation = train_test_split(X, Y, test_size=validation_size, random_state=seed)\n",
    "\n",
    "# Spot-Check Algorithms\n",
    "models = []\n",
    "models.append(('LR', LogisticRegression()))\n",
    "models.append(('LDA', LinearDiscriminantAnalysis()))\n",
    "models.append(('KNN', KNeighborsClassifier()))\n",
    "models.append(('CART', DecisionTreeClassifier()))\n",
    "models.append(('NB', GaussianNB()))\n",
    "models.append(('SVM', SVC()))\n",
    "# evaluate each model in turn\n",
    "results = []\n",
    "names = []\n",
    "for name, model in models:\n",
    "\tkfold = KFold(n_splits=10, random_state=seed)\n",
    "\tcv_results = cross_val_score(model, X_train, Y_train, cv=kfold, scoring='accuracy')\n",
    "\tresults.append(cv_results)\n",
    "\tnames.append(name)\n",
    "\tmsg = \"%s: %f (%f)\" % (name, cv_results.mean(), cv_results.std())\n",
    "\tprint(msg)\n",
    "\n",
    "# Compare Algorithms\n",
    "fig = pyplot.figure()\n",
    "fig.suptitle('Algorithm Comparison')\n",
    "ax = fig.add_subplot(111)\n",
    "plt.boxplot(results)\n",
    "ax.set_xticklabels(names)\n",
    "plt.show()\n",
    "\n",
    "# Make predictions on validation dataset\n",
    "knn = KNeighborsClassifier()\n",
    "knn.fit(X_train, Y_train)\n",
    "predictions = knn.predict(X_validation)\n",
    "print(accuracy_score(Y_validation, predictions))\n",
    "print(confusion_matrix(Y_validation, predictions))\n",
    "print(classification_report(Y_validation, predictions))\n",
    "\n",
    "\n"
   ]
  },
  {
   "cell_type": "code",
   "execution_count": null,
   "metadata": {
    "collapsed": true
   },
   "outputs": [],
   "source": []
  }
 ],
 "metadata": {
  "kernelspec": {
   "display_name": "Python 2",
   "language": "python",
   "name": "python2"
  },
  "language_info": {
   "codemirror_mode": {
    "name": "ipython",
    "version": 2
   },
   "file_extension": ".py",
   "mimetype": "text/x-python",
   "name": "python",
   "nbconvert_exporter": "python",
   "pygments_lexer": "ipython2",
   "version": "2.7.13"
  }
 },
 "nbformat": 4,
 "nbformat_minor": 2
}
