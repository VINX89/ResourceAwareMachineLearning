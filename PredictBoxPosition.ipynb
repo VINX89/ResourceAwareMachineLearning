{
 "cells": [
  {
   "cell_type": "code",
   "execution_count": 5,
   "metadata": {
    "collapsed": true
   },
   "outputs": [],
   "source": [
    "import os, sys\n",
    "import numpy as np\n",
    "import pandas as pd\n",
    "import glob\n",
    "import matplotlib.pyplot as plt\n",
    "from sklearn.model_selection import cross_val_score\n",
    "from sklearn.tree import DecisionTreeClassifier, export_graphviz\n",
    "import seaborn as sns\n",
    "import matplotlib.pyplot as plt\n",
    "\n",
    "np.set_printoptions(threshold='nan')\n",
    "get_ipython().magic(u'matplotlib inline')\n",
    "plt.style.use('seaborn')"
   ]
  },
  {
   "cell_type": "code",
   "execution_count": 10,
   "metadata": {},
   "outputs": [
    {
     "name": "stdout",
     "output_type": "stream",
     "text": [
      "Empty/corrupted file detected: ./Data2Learn/Merged_B75Data20Sep2017151550.csv\n",
      "\n",
      "Data size/columns\n",
      "(42415, 14)\n",
      "\n",
      "Data examples\n",
      "                                UNIX_T  RSSI1  RSSI2  RSSI3  Lux  Acc_x  \\\n",
      "Time                                                                      \n",
      "2017-09-20 13:20:57.351  1505906457351     56     75     47   63  -1106   \n",
      "2017-09-20 13:20:57.402  1505906457402     43     53     63   70  -1038   \n",
      "2017-09-20 13:20:57.453  1505906457453     53     59     64   93  -1090   \n",
      "2017-09-20 13:20:57.503  1505906457503     51     66     64  162  -1074   \n",
      "2017-09-20 13:20:57.555  1505906457555     51     64     60   82  -1051   \n",
      "\n",
      "                         Acc_y  Acc_z   Temp  ID  Pos  Si  Co  Ro  \n",
      "Time                                                               \n",
      "2017-09-20 13:20:57.351    -20    102   2048   1  223   2   2   3  \n",
      "2017-09-20 13:20:57.402     10     89   2025   2  253   2   5   3  \n",
      "2017-09-20 13:20:57.453    -47    135   1951   3  241   2   4   1  \n",
      "2017-09-20 13:20:57.503      5    109   1995   4  132   1   3   2  \n",
      "2017-09-20 13:20:57.555    -46    110  28431   5  231   2   3   1  \n"
     ]
    }
   ],
   "source": [
    "dfs = []\n",
    "\n",
    "path='./Data2Learn/Merged'\n",
    "filenames=glob.glob(path+'*.csv')\n",
    "\n",
    "for filename in filenames:\n",
    "    try:\n",
    "        dfs.append(pd.read_csv(filename, na_values='.',sep=',',index_col='Time',parse_dates=True))\n",
    "    except:\n",
    "        print(\"Empty/corrupted file detected: %s\" % filename)\n",
    "    \n",
    "data = pd.concat(dfs)\n",
    "\n",
    "print(\"\\nData size/columns\")\n",
    "print(data.shape)\n",
    "print(\"\\nData examples\")\n",
    "print(data.head(5))"
   ]
  },
  {
   "cell_type": "code",
   "execution_count": null,
   "metadata": {
    "collapsed": true
   },
   "outputs": [],
   "source": []
  }
 ],
 "metadata": {
  "kernelspec": {
   "display_name": "Python 2",
   "language": "python",
   "name": "python2"
  },
  "language_info": {
   "codemirror_mode": {
    "name": "ipython",
    "version": 2
   },
   "file_extension": ".py",
   "mimetype": "text/x-python",
   "name": "python",
   "nbconvert_exporter": "python",
   "pygments_lexer": "ipython2",
   "version": "2.7.13"
  }
 },
 "nbformat": 4,
 "nbformat_minor": 2
}
